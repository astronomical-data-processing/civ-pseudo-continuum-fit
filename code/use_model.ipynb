{
 "cells": [
  {
   "cell_type": "code",
   "execution_count": 1,
   "metadata": {},
   "outputs": [],
   "source": [
    "import torch\n",
    "import sys\n",
    "sys.path.append('../')\n",
    "from scipy.signal import medfilt\n",
    "import numpy as np\n",
    "import model as UNet\n",
    "import torch.nn as nn\n",
    "import matplotlib.pyplot as plt"
   ]
  },
  {
   "cell_type": "code",
   "execution_count": null,
   "metadata": {},
   "outputs": [],
   "source": [
    "model = UNet.UNet1Sigmoid(1,1,32,25)\n",
    "print(model)"
   ]
  },
  {
   "cell_type": "code",
   "execution_count": null,
   "metadata": {},
   "outputs": [],
   "source": [
    "npz = np.load('data.npz')\n",
    "\n",
    "from scipy.ndimage import uniform_filter\n",
    "\n",
    "pre_flux = npz['flux']\n",
    "filtered_flux = uniform_filter(pre_flux, size=3, mode='reflect',axes=1)\n",
    "\n",
    "max_vals = np.max(filtered_flux, axis=1)\n",
    "flux = np.array([pre_flux[i,:] /max_vals[i] for i in range(0,len(max_vals))])\n",
    "\n",
    "red_line = npz['gauss']+ npz['pl'] + npz['Fe']\n",
    "mask = np.array([red_line[i,:] /max_vals[i] for i in range(0,len(max_vals))])\n",
    "\n",
    "\n",
    "torch_array = torch.unsqueeze(torch.asarray(flux,dtype=torch.float32),dim=1)\n",
    "torch_array.cuda()"
   ]
  },
  {
   "cell_type": "code",
   "execution_count": null,
   "metadata": {},
   "outputs": [],
   "source": [
    "# 加载模型\n",
    "model = UNet.UNet1Sigmoid(1,1,32,25)\n",
    "model = nn.DataParallel(model, device_ids=[1])\n",
    "model.load_state_dict(torch.load(\"/home/yaomingliang/work/uunet/2024_final/20240106001.pth\"))\n",
    "# model.set_to_eval()\n",
    "# 调用模型\n",
    "out = model(torch_array)\n",
    "out_ = out.cpu()"
   ]
  }
 ],
 "metadata": {
  "kernelspec": {
   "display_name": "unet",
   "language": "python",
   "name": "python3"
  },
  "language_info": {
   "codemirror_mode": {
    "name": "ipython",
    "version": 3
   },
   "file_extension": ".py",
   "mimetype": "text/x-python",
   "name": "python",
   "nbconvert_exporter": "python",
   "pygments_lexer": "ipython3",
   "version": "3.11.0"
  }
 },
 "nbformat": 4,
 "nbformat_minor": 2
}
